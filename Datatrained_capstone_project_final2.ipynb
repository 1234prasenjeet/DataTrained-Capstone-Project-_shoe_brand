{
 "cells": [
  {
   "cell_type": "code",
   "execution_count": 1,
   "id": "657c9610",
   "metadata": {},
   "outputs": [],
   "source": [
    "import numpy as np\n",
    "import pandas as pd\n",
    "import matplotlib.pyplot as plt\n",
    "%matplotlib inline\n",
    "import plotly.express as px\n",
    "import seaborn as sns\n",
    "sns.set(style='whitegrid')\n",
    "import warnings \n",
    "warnings.filterwarnings('ignore')\n",
    "from scipy.stats import zscore\n",
    "from sklearn.linear_model import LogisticRegression,LinearRegression,Lasso,Ridge\n",
    "from sklearn.model_selection import cross_val_score\n",
    "from sklearn.svm import SVR\n",
    "from sklearn.neighbors import KNeighborsRegressor\n",
    "from sklearn.tree import DecisionTreeRegressor \n",
    "from sklearn.ensemble import RandomForestRegressor,GradientBoostingRegressor,AdaBoostRegressor\n",
    "import xgboost\n",
    "from xgboost import XGBRegressor\n",
    "from sklearn.preprocessing import StandardScaler,PowerTransformer,MinMaxScaler,PolynomialFeatures\n",
    "from sklearn.model_selection import train_test_split,GridSearchCV,RandomizedSearchCV\n",
    "from sklearn.metrics import r2_score,mean_squared_error,mean_absolute_error,accuracy_score\n",
    "#Module related to VIF \n",
    "from statsmodels.stats.outliers_influence import variance_inflation_factor\n",
    "#Moudles related to feature selection\n",
    "from sklearn.feature_selection import RFE,SelectKBest,f_classif"
   ]
  },
  {
   "cell_type": "code",
   "execution_count": 2,
   "id": "8fd31c73",
   "metadata": {},
   "outputs": [],
   "source": [
    "# Create Data audit Report for continuous variables\n",
    "def continuous_var_summary(x):\n",
    "    return pd.Series([x.count(), x.isnull().sum(), x.sum(), x.mean(), x.median(),  \n",
    "                      x.std(), x.var(), x.min(), x.quantile(0.01), x.quantile(0.05),\n",
    "                          x.quantile(0.10),x.quantile(0.25),x.quantile(0.50),x.quantile(0.75), \n",
    "                              x.quantile(0.90),x.quantile(0.95), x.quantile(0.99),x.max()], \n",
    "                  index = ['N', 'NMISS', 'SUM', 'MEAN','MEDIAN', 'STD', 'VAR', 'MIN', 'P1', \n",
    "                               'P5' ,'P10' ,'P25' ,'P50' ,'P75' ,'P90' ,'P95' ,'P99' ,'MAX'])"
   ]
  },
  {
   "cell_type": "code",
   "execution_count": null,
   "id": "31f8b63f",
   "metadata": {},
   "outputs": [],
   "source": [
    "# load the first csv file \n",
    "df1 = pd.read_csv('E:/DataTrained/Capstone_Project/table1.csv')\n",
    "print(df1.head())\n",
    "\n",
    "# load the second csv file\n",
    "df2=pd.read_csv('E:/DataTrained/Capstone_Project/table_2.csv')\n",
    "print(df2.head())\n",
    "\n",
    "# load the first csv file \n",
    "df1 = pd.read_csv('E:/DataTrained/Capstone_Project/table_3.csv')\n",
    "print(df1.head())\n",
    "\n"
   ]
  },
  {
   "cell_type": "code",
   "execution_count": null,
   "id": "2d28db2e",
   "metadata": {},
   "outputs": [],
   "source": [
    "# Merge the 2 files to one dataset csv file.\n",
    "df=pd.merge(df1,df2,how='inner',left_on='shoe_Name',right_on='shoe_Name')\n",
    "#Drop the duplicated column\n",
    "df.drop('shoe_Name',axis=1,inplace=True)\n",
    "pd. set_option('display.max_columns', 700)\n",
    "pd.set_option('display.width', 100)\n",
    "df"
   ]
  },
  {
   "cell_type": "code",
   "execution_count": null,
   "id": "98f780ec",
   "metadata": {},
   "outputs": [],
   "source": [
    "# Shape of the dataset\n",
    "df.shape"
   ]
  },
  {
   "cell_type": "code",
   "execution_count": null,
   "id": "e94dd21f",
   "metadata": {},
   "outputs": [],
   "source": [
    "# check dulpicated records\n",
    "df.duplicated().sum()"
   ]
  },
  {
   "cell_type": "code",
   "execution_count": null,
   "id": "a3b3b317",
   "metadata": {},
   "outputs": [],
   "source": [
    "# Let check if any whitespace, 'NA' or '-' exist in dataset.\n",
    "df.isin([' ','NA','-']).sum().any()"
   ]
  },
  {
   "cell_type": "code",
   "execution_count": null,
   "id": "45ab29b8",
   "metadata": {},
   "outputs": [],
   "source": [
    "# Dataset information\n",
    "df.info()"
   ]
  },
  {
   "cell_type": "code",
   "execution_count": null,
   "id": "92d0fc3c",
   "metadata": {},
   "outputs": [],
   "source": [
    "df.price.max()"
   ]
  },
  {
   "cell_type": "code",
   "execution_count": null,
   "id": "cdbeaf96",
   "metadata": {},
   "outputs": [],
   "source": [
    "# Show the columns\n",
    "df.columns"
   ]
  },
  {
   "cell_type": "code",
   "execution_count": null,
   "id": "c0bbe94b",
   "metadata": {},
   "outputs": [],
   "source": [
    "# Check null values in  data\n",
    "df.isnull().sum()"
   ]
  },
  {
   "cell_type": "code",
   "execution_count": null,
   "id": "c812a0d9",
   "metadata": {},
   "outputs": [],
   "source": [
    "# Value counts for every feature to check the missing again or unique values\n",
    "for i in df.columns:\n",
    "    print(df[i].value_counts())\n",
    "    print('**********************************')"
   ]
  },
  {
   "cell_type": "code",
   "execution_count": null,
   "id": "6d0e75a8",
   "metadata": {},
   "outputs": [],
   "source": [
    "# Handling Missing values in dataset.\n",
    "df['Certification'] =df.Certification.replace(np.nan,'Not Rated')\n",
    "df.shoe_name.fillna(0.0,inplace=True)\n",
    "df.color_1.fillna('NA',inplace=True)\n",
    "df.color_2.fillna('NA',inplace=True)\n",
    "df.color_3.fillna('NA',inplace=True)\n",
    "df.color_4.fillna('NA',inplace=True)\n",
    "df.reviews.fillna('NA',inplace=True)\n",
    "df.size.fillna('NA',inplace=True)\n",
    "df.style_code.fillna('NA',inplace=True)\n",
    "\n",
    "# Using knn imputer for both metascore and gross\n",
    "from sklearn.impute  import KNNImputer\n",
    "imputer=KNNImputer(n_neighbors=5)\n",
    "# Initialize MinMaxScaler\n",
    "scaler = MinMaxScaler()\n",
    "# Use some features of the data\n",
    "data=df[['shoe_name','size','style_code']]\n",
    "# Perform Min-Max Scaling\n",
    "scaled_data = scaler.fit_transform(data)\n",
    "\n",
    "# Fit the imputer on the data\n",
    "imputer.fit(scaled_data)\n",
    "# Replacing the missing values\n",
    "data=imputer.transform(scaled_data)"
   ]
  },
  {
   "cell_type": "code",
   "execution_count": null,
   "id": "26f87762",
   "metadata": {},
   "outputs": [],
   "source": [
    "# Reverse the scaling\n",
    "unscaled_data = scaler.inverse_transform(data)"
   ]
  },
  {
   "cell_type": "code",
   "execution_count": null,
   "id": "ef67718d",
   "metadata": {},
   "outputs": [],
   "source": [
    "# Check the null values again\n",
    "df.isnull().sum()"
   ]
  },
  {
   "cell_type": "code",
   "execution_count": null,
   "id": "7fdcb9ea",
   "metadata": {},
   "outputs": [],
   "source": [
    "# Using knn imputer for both metascore and gross\n",
    "from sklearn.impute  import KNNImputer\n",
    "imputer=KNNImputer(n_neighbors=5)\n",
    "# Initialize MinMaxScaler\n",
    "scaler = MinMaxScaler()\n",
    "# Use some features of the data\n",
    "data=df[['Reviews','category','comfort']]\n",
    "# Perform Min-Max Scaling\n",
    "scaled_data = scaler.fit_transform(data)\n",
    "\n",
    "# Fit the imputer on the data\n",
    "imputer.fit(scaled_data)\n",
    "# Replacing the missing values\n",
    "data=imputer.transform(scaled_data)"
   ]
  },
  {
   "cell_type": "code",
   "execution_count": null,
   "id": "d4c3c0e9",
   "metadata": {},
   "outputs": [],
   "source": [
    "# Reverse the scaling\n",
    "unscaled_data = scaler.inverse_transform(data)"
   ]
  },
  {
   "cell_type": "code",
   "execution_count": null,
   "id": "1e7d1f42",
   "metadata": {},
   "outputs": [],
   "source": [
    "# split train data to continous and categorical varaiables.\n",
    "num=df.select_dtypes(include=['float64','int64'])\n",
    "cat=df.select_dtypes(include=['object'])\n",
    "\n",
    "# split train data to continous and categorical varaiables.\n",
    "num_gross=df_reviews.select_dtypes(include=['float64','int64'])\n",
    "cat_gross=df_category.select_dtypes(include=['object'])"
   ]
  },
  {
   "cell_type": "code",
   "execution_count": null,
   "id": "2ee308ee",
   "metadata": {},
   "outputs": [],
   "source": [
    "# Descriptive analysis for continous data\n",
    "num.apply(continuous_var_summary)"
   ]
  },
  {
   "cell_type": "code",
   "execution_count": null,
   "id": "3f5095b2",
   "metadata": {},
   "outputs": [],
   "source": [
    "# Descriptive analysis for categorical data\n",
    "cat.describe(include='O')"
   ]
  },
  {
   "cell_type": "code",
   "execution_count": null,
   "id": "91d80d32",
   "metadata": {},
   "outputs": [],
   "source": [
    "# Check Normality of continous data\n",
    "for i in num.columns:\n",
    "    sns.distplot(num[i])\n",
    "    plt.show()"
   ]
  },
  {
   "cell_type": "code",
   "execution_count": null,
   "id": "d4fc45f5",
   "metadata": {},
   "outputs": [],
   "source": [
    "# Check count of categorical data for the best 7\n",
    "for i in cat.columns.difference(['color_2','color_3']):\n",
    "    cat[i].value_counts().sort_values(ascending=False).head(10).plot(kind='bar', color='r')\n",
    "    plt.xlabel(i)\n",
    "    plt.ylabel('Count')\n",
    "    plt.title(f'Top 10 Categories for {i}')\n",
    "    plt.show()"
   ]
  },
  {
   "cell_type": "code",
   "execution_count": null,
   "id": "c9523d74",
   "metadata": {},
   "outputs": [],
   "source": [
    "\n",
    "for col in ['star_rating','Reviews','category','size','comfort','no_of_colors']:\n",
    "    top_rated= df.sort_values(by=col ,ascending=False).head(20)\n",
    "    figure=px.bar(top_rated,x='shoe_name',y=col)\n",
    "    figure.show()"
   ]
  },
  {
   "cell_type": "code",
   "execution_count": null,
   "id": "16f32525",
   "metadata": {},
   "outputs": [],
   "source": [
    "# Scatter plot between continous features and target variable (Votes) \n",
    "for i in num.columns.difference(['style_code','shoe_name']):\n",
    "    sns.scatterplot(x=i, y='shoe_name', data=num)\n",
    "    plt.show()"
   ]
  },
  {
   "cell_type": "code",
   "execution_count": null,
   "id": "127100e2",
   "metadata": {},
   "outputs": [],
   "source": [
    "# Observe the Comparison between variables?\n",
    "\n",
    "sns.pairplot(df)\n",
    "plt.show()"
   ]
  },
  {
   "cell_type": "code",
   "execution_count": null,
   "id": "e40aa461",
   "metadata": {},
   "outputs": [],
   "source": [
    "# Check outliers using boxplot\n",
    "for col in ['durability',  'star_rating','price]:\n",
    "    sns.boxplot(df[col])\n",
    "    plt.show()"
   ]
  },
  {
   "cell_type": "code",
   "execution_count": null,
   "id": "aa5bd5f5",
   "metadata": {},
   "outputs": [],
   "source": [
    "# use Z-score method\n",
    "outliers=df[['durability', 'star_rating','price']]\n",
    "z=np.abs(zscore(outliers))\n",
    "df_new=df[(z<3).all(axis=1)]\n",
    "df_new"
   ]
  },
  {
   "cell_type": "code",
   "execution_count": null,
   "id": "9f0e1fe2",
   "metadata": {},
   "outputs": [],
   "source": [
    "# data loss percentage\n",
    "\n",
    "loss_percentage= ((df.shape[0]- df_new.shape[0])/df.shape[0])*100\n",
    "loss_percentage"
   ]
  },
  {
   "cell_type": "code",
   "execution_count": null,
   "id": "0c7f2efe",
   "metadata": {},
   "outputs": [],
   "source": [
    "# Check Skewness\n",
    "df_new.skew()"
   ]
  },
  {
   "cell_type": "code",
   "execution_count": null,
   "id": "ac9ea6cb",
   "metadata": {},
   "outputs": [],
   "source": [
    "# withing Power transformer to treat skewness\n",
    "scaler = PowerTransformer()\n",
    "df_new[skew_cols] = scaler.fit_transform(df_new[skew_cols].values)"
   ]
  },
  {
   "cell_type": "code",
   "execution_count": null,
   "id": "8fe58706",
   "metadata": {},
   "outputs": [],
   "source": [
    "# Check Skewness\n",
    "df_new.skew()"
   ]
  },
  {
   "cell_type": "code",
   "execution_count": null,
   "id": "a9116706",
   "metadata": {},
   "outputs": [],
   "source": [
    "# drop unnecessary columns\n",
    "df_new.drop(columns=['shoe_name],axis=1,inplace=True)"
   ]
  },
  {
   "cell_type": "code",
   "execution_count": null,
   "id": "4b4a7d19",
   "metadata": {},
   "outputs": [],
   "source": [
    "# Use getdummies and frequency for large  for nominal features \n",
    "    \n",
    "df_new=pd.get_dummies(df_new,columns=['color_1','color_2','color_3'],drop_first=True)"
   ]
  },
  {
   "cell_type": "code",
   "execution_count": null,
   "id": "db2cd0fc",
   "metadata": {},
   "outputs": [],
   "source": [
    "# heatmap correlation\n",
    "plt.figure(figsize = (22,12))\n",
    "sns.heatmap(df_new.corr(), annot=True,cmap='summer',fmt='.2f')\n",
    "plt.show()"
   ]
  },
  {
   "cell_type": "code",
   "execution_count": null,
   "id": "6a9c83fc",
   "metadata": {},
   "outputs": [],
   "source": [
    "# use Z-score method\n",
    "outliers=df_gross[['Durability', 'star_rating','price']]\n",
    "z=np.abs(zscore(outliers))\n",
    "dfgross_new=df_gross[(z<3).all(axis=1)]\n",
    "dfgross_new"
   ]
  },
  {
   "cell_type": "code",
   "execution_count": null,
   "id": "4648c784",
   "metadata": {},
   "outputs": [],
   "source": [
    "# data loss percentage\n",
    "\n",
    "loss_percentage= ((df_gross.shape[0]- dfgross_new.shape[0])/df_gross.shape[0])*100\n",
    "loss_percentage"
   ]
  },
  {
   "cell_type": "code",
   "execution_count": null,
   "id": "c9dc8aff",
   "metadata": {},
   "outputs": [],
   "source": [
    "# Check Skewness\n",
    "dfgross_new.skew()"
   ]
  },
  {
   "cell_type": "code",
   "execution_count": null,
   "id": "26b78c3d",
   "metadata": {},
   "outputs": [],
   "source": [
    "# heatmap correlation\n",
    "plt.figure(figsize = (22,12))\n",
    "sns.heatmap(dfgross_new.corr(), annot=True,cmap='summer',fmt='.2f')\n",
    "plt.show()"
   ]
  },
  {
   "cell_type": "code",
   "execution_count": null,
   "id": "c4540c34",
   "metadata": {},
   "outputs": [],
   "source": [
    "# proce is the target feature now.\n",
    "x = df_new.drop('price',axis=1)\n",
    "y = df_new['price']"
   ]
  },
  {
   "cell_type": "code",
   "execution_count": null,
   "id": "92d48aaf",
   "metadata": {},
   "outputs": [],
   "source": [
    "sc= StandardScaler()\n",
    "x = pd.DataFrame(sc.fit_transform(x), columns = x.columns)\n",
    "x"
   ]
  },
  {
   "cell_type": "code",
   "execution_count": null,
   "id": "255af990",
   "metadata": {},
   "outputs": [],
   "source": [
    "from sklearn.feature_selection import f_regression\n",
    "F_values, p_values  = f_regression(x, y )"
   ]
  },
  {
   "cell_type": "code",
   "execution_count": null,
   "id": "86e6b4e8",
   "metadata": {},
   "outputs": [],
   "source": [
    "import itertools\n",
    "f_reg_results = [(i, v, z) for i, v, z in itertools.zip_longest(x.columns, F_values,  ['%.3f' % p for p in p_values])]\n",
    "f_reg_results=pd.DataFrame(f_reg_results, columns=['Variable','F_Value', 'P_Value'])"
   ]
  },
  {
   "cell_type": "code",
   "execution_count": null,
   "id": "42c2398f",
   "metadata": {},
   "outputs": [],
   "source": [
    "f_reg_results=pd.DataFrame(f_reg_results, columns=['Variable','F_Value', 'P_Value'])\n",
    "f_reg_results = f_reg_results.sort_values(by=['P_Value']).head(25)"
   ]
  },
  {
   "cell_type": "code",
   "execution_count": null,
   "id": "fe785658",
   "metadata": {},
   "outputs": [],
   "source": [
    "f_reg_results"
   ]
  },
  {
   "cell_type": "code",
   "execution_count": null,
   "id": "0f7b94be",
   "metadata": {},
   "outputs": [],
   "source": [
    "l1_fr=f_reg_results['Variable'][:-1].values  # CI=0.90\n",
    "l1_fr"
   ]
  },
  {
   "cell_type": "code",
   "execution_count": null,
   "id": "8bd0047a",
   "metadata": {},
   "outputs": [],
   "source": [
    "rfe = RFE(RandomForestRegressor(), n_features_to_select=17).fit(x,y)"
   ]
  },
  {
   "cell_type": "code",
   "execution_count": null,
   "id": "88a5f433",
   "metadata": {},
   "outputs": [],
   "source": [
    "l2_rfe = x.columns[rfe.get_support()]"
   ]
  },
  {
   "cell_type": "code",
   "execution_count": null,
   "id": "33322be5",
   "metadata": {},
   "outputs": [],
   "source": [
    "l2_rfe"
   ]
  },
  {
   "cell_type": "code",
   "execution_count": null,
   "id": "11045a3b",
   "metadata": {},
   "outputs": [],
   "source": [
    "SKB = SelectKBest(f_classif, k=17).fit(x, y )"
   ]
  },
  {
   "cell_type": "code",
   "execution_count": null,
   "id": "5c9d1c40",
   "metadata": {},
   "outputs": [],
   "source": [
    "l3_skb = x.columns[SKB.get_support()]"
   ]
  },
  {
   "cell_type": "code",
   "execution_count": null,
   "id": "6bdf9ca2",
   "metadata": {},
   "outputs": [],
   "source": [
    "l3_skb"
   ]
  },
  {
   "cell_type": "code",
   "execution_count": null,
   "id": "fa73c4e6",
   "metadata": {},
   "outputs": [],
   "source": [
    "list(set(list(l1_fr)+list(l2_rfe)+list(l3_skb)))"
   ]
  },
  {
   "cell_type": "code",
   "execution_count": null,
   "id": "dec396f5",
   "metadata": {},
   "outputs": [],
   "source": [
    "x = x[final_list]\n",
    "y = y"
   ]
  },
  {
   "cell_type": "code",
   "execution_count": null,
   "id": "fcc9bf5c",
   "metadata": {},
   "outputs": [],
   "source": [
    "vif = pd.DataFrame()\n",
    "vif[\"VIF_Factor\"] = [variance_inflation_factor(x.values, i) for i in range(x.shape[1])]\n",
    "vif[\"features\"] = x.columns"
   ]
  },
  {
   "cell_type": "code",
   "execution_count": null,
   "id": "30432411",
   "metadata": {},
   "outputs": [],
   "source": [
    "vif.sort_values(by='VIF_Factor', ascending=False, inplace=True)\n",
    "vif"
   ]
  },
  {
   "cell_type": "code",
   "execution_count": null,
   "id": "1dc6d3bf",
   "metadata": {},
   "outputs": [],
   "source": [
    "#Selecting the best random state to get maximum accuracy.\n",
    "max_acc=0\n",
    "max_RS=0\n",
    "for i in range(1,100):\n",
    "    x_train, x_test, y_train, y_test = train_test_split(x, y, test_size=0.20, random_state=i)\n",
    "\n",
    "    lr= LinearRegression()\n",
    "    lr.fit(x_train,y_train)\n",
    "    pred = lr.predict(x_test)\n",
    "    acc = r2_score(y_test, pred)\n",
    "    if acc > max_acc:\n",
    "        max_acc= acc\n",
    "        max_RS=i\n",
    "print(\"The max accuracy is\",max_acc, 'seen for random state:',max_RS)"
   ]
  },
  {
   "cell_type": "code",
   "execution_count": null,
   "id": "5e529a33",
   "metadata": {},
   "outputs": [],
   "source": [
    "x_train,x_test,y_train,y_test=train_test_split(x,y,test_size=0.2,random_state=max_RS)"
   ]
  },
  {
   "cell_type": "code",
   "execution_count": null,
   "id": "14f40397",
   "metadata": {},
   "outputs": [],
   "source": [
    "lr=LinearRegression()\n",
    "lr.fit(x_train,y_train)\n",
    "pred_train=lr.predict(x_train)\n",
    "pred_test=lr.predict(x_test)\n",
    "score_train=r2_score(y_train,pred_train)\n",
    "score_test=r2_score(y_test,pred_test)\n",
    "mse = mean_squared_error(y_test, pred_test)\n",
    "\n",
    "print('R2_Score_train: ',score_train)\n",
    "print('R2_Score_test: ',score_test)\n",
    "print('RMSE = ', np.sqrt(mse).round(4))\n",
    "print('The mean absolute error = ', mean_absolute_error(y_test, pred_test))"
   ]
  },
  {
   "cell_type": "code",
   "execution_count": null,
   "id": "b2181f9c",
   "metadata": {},
   "outputs": [],
   "source": [
    "sns.regplot(x=y_test,y=pred_test)\n",
    "plt.title(\"Model-LR\")\n",
    "plt.xlabel('Y Test')\n",
    "plt.ylabel('Predicted Y')\n",
    "plt.show()"
   ]
  },
  {
   "cell_type": "code",
   "execution_count": null,
   "id": "16f6d2f6",
   "metadata": {},
   "outputs": [],
   "source": [
    "for i in range(2,11):\n",
    "    cv_score=cross_val_score(lr,x,y,scoring='r2',cv=i)\n",
    "    cv_mean= cv_score.mean()\n",
    "    cv_std= cv_score.std()\n",
    "    print(f'At Cross fold {i} the cv score mean is {cv_mean*100} and the cv score std is {cv_std},testing accuracy score= {score_test*100}')\n",
    "    print('\\n')"
   ]
  },
  {
   "cell_type": "code",
   "execution_count": null,
   "id": "02927d2d",
   "metadata": {},
   "outputs": [],
   "source": [
    "# Define the degree of polynomial features\n",
    "degree = 2\n",
    "\n",
    "# Create an instance of PolynomialFeatures\n",
    "poly_features = PolynomialFeatures(degree=degree)\n",
    "\n",
    "# Fit and transform the training features to polynomial features\n",
    "X_train_poly = poly_features.fit_transform(x_train)\n",
    "\n",
    "# Transform the testing features to polynomial features\n",
    "X_test_poly = poly_features.transform(x_test)"
   ]
  },
  {
   "cell_type": "code",
   "execution_count": null,
   "id": "3b36f9b8",
   "metadata": {},
   "outputs": [],
   "source": [
    "# Create an instance of Ridge regression\n",
    "ridge_model = Ridge()\n",
    "\n",
    "ridge_model.fit(X_train_poly, y_train)\n",
    "\n",
    "pred_train_ridge=ridge_model.predict(X_train_poly)\n",
    "pred_test_ridge = ridge_model.predict(X_test_poly)\n",
    "\n",
    "score_train=r2_score(y_train,pred_train_ridge)\n",
    "score_test=r2_score(y_test,pred_test_ridge)\n",
    "mse = mean_squared_error(y_test, pred_test_ridge)\n",
    "\n",
    "\n",
    "# Print the mean squared error\n",
    "print('R2_Score_train: ',score_train)\n",
    "print('R2_Score_test: ',score_test)\n",
    "print('RMSE = ', np.sqrt(mse).round(4))\n",
    "print('The mean absolute error = ', mean_absolute_error(y_test, pred_test_ridge))"
   ]
  },
  {
   "cell_type": "code",
   "execution_count": null,
   "id": "0702a5b6",
   "metadata": {},
   "outputs": [],
   "source": [
    "sns.regplot(x=y_test,y=pred_test_ridge)\n",
    "plt.title(\"Model-Ridge\")\n",
    "plt.xlabel('Y Test')\n",
    "plt.ylabel('Predicted Y')\n",
    "plt.show()"
   ]
  },
  {
   "cell_type": "code",
   "execution_count": null,
   "id": "56bb4177",
   "metadata": {},
   "outputs": [],
   "source": [
    "# Create an instance of Lasso regression\n",
    "lasso_model = Lasso()\n",
    "\n",
    "\n",
    "lasso_model.fit(X_train_poly, y_train)\n",
    "\n",
    "pred_train_lasso=lasso_model.predict(X_train_poly)\n",
    "pred_test_lasso = lasso_model.predict(X_test_poly)\n",
    "\n",
    "score_train=r2_score(y_train,pred_train_ridge)\n",
    "score_test=r2_score(y_test,pred_test_ridge)\n",
    "mse = mean_squared_error(y_test, pred_test_lasso)\n",
    "\n",
    "\n",
    "# Print the mean squared error\n",
    "print('R2_Score_train: ',score_train)\n",
    "print('R2_Score_test: ',score_test)\n",
    "print('RMSE = ', np.sqrt(mse).round(4))\n",
    "print('The mean absolute error = ', mean_absolute_error(y_test, pred_test_lasso))"
   ]
  },
  {
   "cell_type": "code",
   "execution_count": null,
   "id": "60b4a2ff",
   "metadata": {},
   "outputs": [],
   "source": [
    "sns.regplot(x=y_test,y=pred_test_lasso)\n",
    "plt.title(\"Model-Lasso\")\n",
    "plt.xlabel('Y Test')\n",
    "plt.ylabel('Predicted Y')\n",
    "plt.show()"
   ]
  },
  {
   "cell_type": "code",
   "execution_count": null,
   "id": "14c72a54",
   "metadata": {},
   "outputs": [],
   "source": [
    "#Selecting the best random state to get maximum accuracy.\n",
    "max_acc=0\n",
    "max_RS=0\n",
    "for i in range(1,100):\n",
    "    x_train, x_test, y_train, y_test = train_test_split(x, y, test_size=0.20, random_state=i)\n",
    "   \n",
    "    knn = KNeighborsRegressor()\n",
    "    knn.fit(x_train,y_train)\n",
    "    pred = knn.predict(x_test)\n",
    "    acc = r2_score(y_test, pred)\n",
    "    if acc > max_acc:\n",
    "        max_acc= acc\n",
    "        max_RS=i\n",
    "print(\"The max accuracy is\",max_acc, 'seen for random state:',max_RS)"
   ]
  },
  {
   "cell_type": "code",
   "execution_count": null,
   "id": "6d3e5fe8",
   "metadata": {},
   "outputs": [],
   "source": [
    "x_train,x_test,y_train,y_test=train_test_split(x,y,test_size=0.20,random_state=max_RS)\n",
    "\n",
    "pred_train=knn.predict(x_train)\n",
    "pred_test = knn.predict(x_test)\n",
    "print('The r2 score_train is:', r2_score(y_train, pred_train))\n",
    "print('The r2 score_test is:', r2_score(y_test, pred_test))\n",
    "print('The mean absolute error', mean_absolute_error(y_test, pred_test))\n",
    "print('The mean squared error', mean_squared_error(y_test, pred_test))\n",
    "cv = cross_val_score(knn, x,y,cv=10)\n",
    "print('The cross validation score', cv.mean())"
   ]
  },
  {
   "cell_type": "code",
   "execution_count": null,
   "id": "e9263c45",
   "metadata": {},
   "outputs": [],
   "source": [
    "sns.regplot(x=y_test,y=pred_test)\n",
    "plt.title(\"Model-KNN\")\n",
    "plt.xlabel('Y Test')\n",
    "plt.ylabel('Predicted Y')\n",
    "plt.show()"
   ]
  },
  {
   "cell_type": "code",
   "execution_count": null,
   "id": "29aae86c",
   "metadata": {},
   "outputs": [],
   "source": [
    "#Selecting the best random state to get maximum accuracy.\n",
    "\n",
    "max_acc=0\n",
    "max_RS=0\n",
    "for i in range(1,100):\n",
    "    x_train, x_test, y_train, y_test = train_test_split(x, y, test_size=0.20, random_state=i)\n",
    "\n",
    "    svr = SVR()\n",
    "    svr.fit(x_train,y_train)\n",
    "    pred = svr.predict(x_test)\n",
    "    acc = r2_score(y_test, pred)\n",
    "    if acc > max_acc:\n",
    "        max_acc= acc\n",
    "        max_RS=i\n",
    "print(\"The max accuracy is\",max_acc, 'seen for random state:',max_RS)"
   ]
  },
  {
   "cell_type": "code",
   "execution_count": null,
   "id": "884917e6",
   "metadata": {},
   "outputs": [],
   "source": [
    "x_train,x_test,y_train,y_test=train_test_split(x,y,test_size=0.20,random_state=max_RS)\n",
    "\n",
    "pred_train=svr.predict(x_train)\n",
    "pred_test = svr.predict(x_test)\n",
    "print('The r2 score_train is:', r2_score(y_train, pred_train))\n",
    "print('The r2 score_test is:', r2_score(y_test, pred_test))\n",
    "print('The mean absolute error', mean_absolute_error(y_test, pred_test))\n",
    "print('The mean squared error', mean_squared_error(y_test, pred_test))\n",
    "cv = cross_val_score(svr, x,y,cv=10)\n",
    "print('The cross validation score', cv.mean())"
   ]
  },
  {
   "cell_type": "code",
   "execution_count": null,
   "id": "4c1c80d8",
   "metadata": {},
   "outputs": [],
   "source": [
    "sns.regplot(x=y_test,y=pred_test)\n",
    "plt.title(\"Model-SVR\")\n",
    "plt.xlabel('Y Test')\n",
    "plt.ylabel('Predicted Y')\n",
    "plt.show()"
   ]
  },
  {
   "cell_type": "code",
   "execution_count": null,
   "id": "8b16be88",
   "metadata": {},
   "outputs": [],
   "source": [
    "#Selecting the best random state to get maximum accuracy.\n",
    "\n",
    "max_acc=0\n",
    "max_RS=0\n",
    "for i in range(1,100):\n",
    "    x_train, x_test, y_train, y_test = train_test_split(x, y, test_size=0.20, random_state=i)\n",
    "  \n",
    "    dtr = DecisionTreeRegressor()\n",
    "    dtr.fit(x_train,y_train)\n",
    "    pred = dtr.predict(x_test)\n",
    "    acc = r2_score(y_test, pred)\n",
    "    if acc > max_acc:\n",
    "        max_acc= acc\n",
    "        max_RS=i\n",
    "print(\"The max accuracy is\",max_acc, 'seen for random state:',max_RS)"
   ]
  },
  {
   "cell_type": "code",
   "execution_count": null,
   "id": "d350b767",
   "metadata": {},
   "outputs": [],
   "source": [
    "x_train,x_test,y_train,y_test=train_test_split(x,y,test_size=0.20,random_state=max_RS)\n",
    "\n",
    "pred_train=dtr.predict(x_train)\n",
    "pred_test= dtr.predict(x_test)\n",
    "print('The r2 score_train is:', r2_score(y_train, pred_train))\n",
    "print('The r2 score_test is:', r2_score(y_test, pred_test))\n",
    "print('The mean absolute error', mean_absolute_error(y_test, pred_test))\n",
    "print('The mean squared error', mean_squared_error(y_test, pred_test))\n",
    "cv = cross_val_score(dtr, x,y,cv=10)\n",
    "print('The cross validation score', cv.mean())"
   ]
  },
  {
   "cell_type": "code",
   "execution_count": null,
   "id": "c69f63f1",
   "metadata": {},
   "outputs": [],
   "source": [
    "#Selecting the best random state to get maximum accuracy.\n",
    "max_acc=0\n",
    "max_RS=0\n",
    "for i in range(1,100):\n",
    "    x_train, x_test, y_train, y_test = train_test_split(x, y, test_size=0.20, random_state=i)\n",
    "   \n",
    "    rfr = RandomForestRegressor()\n",
    "    rfr.fit(x_train,y_train)\n",
    "    pred = rfr.predict(x_test)\n",
    "    acc = r2_score(y_test, pred)\n",
    "    if acc > max_acc:\n",
    "        max_acc= acc\n",
    "        max_RS=i\n",
    "print(\"The max accuracy is\",max_acc, 'seen for random state:',max_RS)"
   ]
  },
  {
   "cell_type": "code",
   "execution_count": null,
   "id": "a5ec4ddb",
   "metadata": {},
   "outputs": [],
   "source": [
    "x_train,x_test,y_train,y_test=train_test_split(x,y,test_size=0.20,random_state=max_RS)\n",
    "\n",
    "pred_train=rfr.predict(x_train)\n",
    "pred_test= rfr.predict(x_test)\n",
    "print('The r2 score_train is:', r2_score(y_train, pred_train))\n",
    "print('The r2 score_test is:', r2_score(y_test, pred_test))\n",
    "print('The mean absolute error', mean_absolute_error(y_test, pred_test))\n",
    "print('The mean squared error', mean_squared_error(y_test, pred_test))\n",
    "cv = cross_val_score(rfr, x,y,cv=10)\n",
    "print('The cross validation score', cv.mean())"
   ]
  },
  {
   "cell_type": "code",
   "execution_count": null,
   "id": "b0d6f197",
   "metadata": {},
   "outputs": [],
   "source": [
    "sns.regplot(x=y_test,y=pred_test)\n",
    "plt.title(\"Model-RFR\")\n",
    "plt.xlabel('Y Test')\n",
    "plt.ylabel('Predicted Y')\n",
    "plt.show()"
   ]
  },
  {
   "cell_type": "code",
   "execution_count": null,
   "id": "180e3902",
   "metadata": {},
   "outputs": [],
   "source": [
    "#Selecting the best random state to get maximum accuracy.\n",
    "\n",
    "max_acc=0\n",
    "max_RS=0\n",
    "for i in range(1,100):\n",
    "    x_train, x_test, y_train, y_test = train_test_split(x, y, test_size=0.20, random_state=i)\n",
    "   \n",
    "    gbr=GradientBoostingRegressor()\n",
    "    gbr.fit(x_train,y_train)\n",
    "    pred=gbr.predict(x_test)\n",
    "    acc = r2_score(y_test, pred)\n",
    "    if acc > max_acc:\n",
    "        max_acc= acc\n",
    "        max_RS=i\n",
    "print(\"The max accuracy is\",max_acc, 'seen for random state:',max_RS)"
   ]
  },
  {
   "cell_type": "code",
   "execution_count": null,
   "id": "0d1ae208",
   "metadata": {},
   "outputs": [],
   "source": [
    "x_train,x_test,y_train,y_test=train_test_split(x,y,test_size=0.20,random_state=max_RS)\n",
    "\n",
    "pred_train=gbr.predict(x_train)\n",
    "pred_test = gbr.predict(x_test)\n",
    "print('The r2 score_train is:', r2_score(y_train, pred_train))\n",
    "print('The r2 score_test is:', r2_score(y_test, pred_test))\n",
    "print('The mean absolute error', mean_absolute_error(y_test, pred_test))\n",
    "print('The mean squared error', mean_squared_error(y_test, pred_test))\n",
    "cv = cross_val_score(gbr, x,y,cv=10)\n",
    "print('The cross validation score', cv.mean())"
   ]
  },
  {
   "cell_type": "code",
   "execution_count": null,
   "id": "12938c69",
   "metadata": {},
   "outputs": [],
   "source": [
    "sns.regplot(x=y_test,y=pred_test)\n",
    "plt.title(\"Model-GBR\")\n",
    "plt.xlabel('Y Test')\n",
    "plt.ylabel('Predicted Y')\n",
    "plt.show()"
   ]
  },
  {
   "cell_type": "code",
   "execution_count": null,
   "id": "389f7620",
   "metadata": {},
   "outputs": [],
   "source": [
    "#Selecting the best random state to get maximum accuracy.\n",
    "max_acc=0\n",
    "max_RS=0\n",
    "for i in range(1,100):\n",
    "    x_train, x_test, y_train, y_test = train_test_split(x, y, test_size=0.20, random_state=i)\n",
    "\n",
    "    \n",
    "    adr=AdaBoostRegressor()\n",
    "    adr.fit(x_train,y_train)\n",
    "    adr_pred=adr.predict(x_test)\n",
    "    acc = r2_score(y_test, adr_pred)\n",
    "    if acc > max_acc:\n",
    "        max_acc= acc\n",
    "        max_RS=i\n",
    "print(\"The max accuracy is\",max_acc, 'seen for random state:',max_RS)"
   ]
  },
  {
   "cell_type": "code",
   "execution_count": null,
   "id": "f9b0a1bc",
   "metadata": {},
   "outputs": [],
   "source": [
    "x_train,x_test,y_train,y_test=train_test_split(x,y,test_size=0.20,random_state=max_RS)\n",
    "\n",
    "pred_train=adr.predict(x_train)\n",
    "pred_test = adr.predict(x_test)\n",
    "print('The r2 score_train is:', r2_score(y_train, pred_train))\n",
    "print('The r2 score_test is:', r2_score(y_test, pred_test))\n",
    "print('The mean absolute error', mean_absolute_error(y_test, pred_test))\n",
    "print('The mean squared error', mean_squared_error(y_test, pred_test))\n",
    "cv = cross_val_score(adr, x,y,cv=10)\n",
    "print('The cross validation score', cv.mean())"
   ]
  },
  {
   "cell_type": "code",
   "execution_count": null,
   "id": "864ad1aa",
   "metadata": {},
   "outputs": [],
   "source": [
    "sns.regplot(x=y_test,y=pred_test)\n",
    "plt.title(\"Model-ADAB Regressor\")\n",
    "plt.xlabel('Y Test')\n",
    "plt.ylabel('Predicted Y')\n",
    "plt.show()"
   ]
  },
  {
   "cell_type": "code",
   "execution_count": null,
   "id": "d6f27278",
   "metadata": {},
   "outputs": [],
   "source": [
    "#Selecting the best random state to get maximum accuracy.\n",
    "max_acc=0\n",
    "max_RS=0\n",
    "for i in range(1,100):\n",
    "    x_train, x_test, y_train, y_test = train_test_split(x, y, test_size=0.20, random_state=i)\n",
    "\n",
    "    xgb=XGBRegressor()\n",
    "    xgb.fit(x_train,y_train)\n",
    "    xgb_pred=xgb.predict(x_test)\n",
    "    acc = r2_score(y_test, xgb_pred)\n",
    "    if acc > max_acc:\n",
    "        max_acc= acc\n",
    "        max_RS=i\n",
    "print(\"The max accuracy is\",max_acc, 'seen for random state:',max_RS)"
   ]
  },
  {
   "cell_type": "code",
   "execution_count": null,
   "id": "656a2618",
   "metadata": {},
   "outputs": [],
   "source": [
    "x_train,x_test,y_train,y_test=train_test_split(x,y,test_size=0.20,random_state=max_RS)\n",
    "\n",
    "pred_train=xgb.predict(x_train)\n",
    "pred_test= xgb.predict(x_test)\n",
    "print('The r2 score_train is:', r2_score(y_train, pred_train))\n",
    "print('The r2 score_test is:', r2_score(y_test, pred_test))\n",
    "print('The mean absolute error', mean_absolute_error(y_test, pred_test))\n",
    "print('The mean squared error', mean_squared_error(y_test, pred_test))\n",
    "cv = cross_val_score(xgb, x,y,cv=10)\n",
    "print('The cross validation score', cv.mean(),cv.std())"
   ]
  },
  {
   "cell_type": "code",
   "execution_count": null,
   "id": "cd53ae2a",
   "metadata": {},
   "outputs": [],
   "source": [
    "sns.regplot(x=y_test,y=pred_test)\n",
    "plt.title(\"Model-XGBR\")\n",
    "plt.xlabel('Y Test')\n",
    "plt.ylabel('Predicted Y')\n",
    "plt.show()"
   ]
  },
  {
   "cell_type": "code",
   "execution_count": null,
   "id": "9955c386",
   "metadata": {},
   "outputs": [],
   "source": [
    "np.random.seed(10)\n",
    "\n",
    "def rmse_cv(model, x, y):\n",
    "    rmse = -cross_val_score(model, x, y, scoring='neg_mean_squared_error', cv=10)\n",
    "    return (rmse)\n",
    "\n",
    "models = [LinearRegression(), Ridge(), Lasso(), SVR(), KNeighborsRegressor(),\n",
    "          DecisionTreeRegressor(), RandomForestRegressor(), GradientBoostingRegressor(),\n",
    "          AdaBoostRegressor(), XGBRegressor()]\n",
    "\n",
    "names = ['lr', 'ridge', 'lasso', 'svr', 'knn', 'dtr', 'rfr', 'gbr', 'adr', 'xgb']\n",
    "\n",
    "for model, name in zip(models, names):\n",
    "    score = rmse_cv(model, x, y)\n",
    "    print(\"{}: {:.6f}, {:.6f}\".format(name, score.mean(), score.std()))"
   ]
  },
  {
   "cell_type": "code",
   "execution_count": null,
   "id": "fc3d2101",
   "metadata": {},
   "outputs": [],
   "source": [
    "# Tunning Hyperparameters for XGB Regressor\n",
    "\n",
    "# Define the parameter grid\n",
    "params = {\n",
    "    'n_estimators': [100, 200,500,700,1000],\n",
    "    'learning_rate': [0.1, 0.01, 0.001],\n",
    "    'max_depth': [3,5,7,9],\n",
    "    'subsample': [0.8, 1],\n",
    "    'colsample_bytree': [0.8,1],\n",
    "    'min_child_weight': [1,5,10]\n",
    "}\n",
    "\n",
    "xgb_tuned= GridSearchCV(XGBRegressor(),params,scoring='r2',cv =10,n_jobs=-1,verbose=True)\n",
    "xgb_tuned.fit(x_train,y_train)\n",
    "y_pred=xgb_tuned.predict(x_test)\n",
    "print('The r2 score is:', r2_score(y_test, y_pred))\n",
    "print(\"\\n The best estimator across ALL searched params:\\n\", xgb_tuned.best_estimator_)\n",
    "print(\"\\n The best score across ALL searched params:\\n\", xgb_tuned.best_score_)\n",
    "print(\"\\n The best parameters across ALL searched params:\\n\",xgb_tuned.best_params_)"
   ]
  },
  {
   "cell_type": "code",
   "execution_count": null,
   "id": "2ce94944",
   "metadata": {},
   "outputs": [],
   "source": [
    "# Reinstating with tuned parameters\n",
    "x_train,x_test,y_train,y_test=train_test_split(x,y,test_size=0.2,random_state=53)\n",
    "\n",
    "xgb_model = XGBRegressor(n_estimators= 1000,max_depth=5,colsample_bytree=0.8, learning_rate=0.01,min_child_weight=5\n",
    "                         ,subsample=0.8).fit(x_train,y_train)\n",
    "\n",
    "pred_train=xgb_model.predict(x_train)\n",
    "pred_test= xgb_model.predict(x_test)\n",
    "print('The r2 score_train is: ', r2_score(y_train, pred_train))\n",
    "print('The r2 score_test is: ', r2_score(y_test, pred_test))\n",
    "print('The mean absolute error ', mean_absolute_error(y_test, pred_test))\n",
    "print('root_mean_squared_error: ',np.sqrt(mean_squared_error(y_test,pred_test)))"
   ]
  },
  {
   "cell_type": "code",
   "execution_count": null,
   "id": "f2ba54d7",
   "metadata": {},
   "outputs": [],
   "source": [
    "cv = cross_val_score(xgb_model, x,y,cv=10)\n",
    "print('The cross validation score', cv.mean())"
   ]
  },
  {
   "cell_type": "code",
   "execution_count": null,
   "id": "8ec164b0",
   "metadata": {},
   "outputs": [],
   "source": [
    "sns.regplot(x=y_test,y=pred_test)\n",
    "plt.title(\"Tunned-XGBR\")\n",
    "plt.xlabel('Y Test')\n",
    "plt.ylabel('Predicted Y')\n",
    "plt.show()"
   ]
  },
  {
   "cell_type": "code",
   "execution_count": null,
   "id": "f28214ff",
   "metadata": {},
   "outputs": [],
   "source": [
    "import optuna\n",
    "\n",
    "# Split the data into training and validation sets\n",
    "X_train, X_valid, y_train, y_valid = train_test_split(x, y, test_size=0.2, random_state=53)\n",
    "\n",
    "# Define the objective function to optimize using Optuna\n",
    "def objective(trial):\n",
    "    # Define the hyperparameters to tune\n",
    "    params = {\n",
    "        'n_estimators': trial.suggest_int('n_estimators', 100, 100),\n",
    "        'learning_rate': trial.suggest_float('learning_rate', 0.01, 0.2),\n",
    "        'max_depth': trial.suggest_int('max_depth', 3, 10),\n",
    "        'subsample': trial.suggest_float('subsample', 0.6, 1.0),\n",
    "        'colsample_bytree': trial.suggest_float('colsample_bytree', 0.5, 1.0),\n",
    "        'gamma': trial.suggest_float('gamma', 0.0, 1.0),\n",
    "        'lambda': trial.suggest_float('lambda', 0.0, 1.0),\n",
    "    }\n",
    "\n",
    "    # Create the XGB regressor with the current hyperparameters\n",
    "    model = XGBRegressor(**params)\n",
    "\n",
    "    # Train the model\n",
    "    model.fit(X_train, y_train, eval_set=[(X_valid, y_valid)], early_stopping_rounds=10, verbose=False)\n",
    "\n",
    "    # Predict on the validation set\n",
    "    y_pred = model.predict(X_valid)\n",
    "\n",
    "    # Calculate the mean squared error as the objective to minimize\n",
    "    mse = mean_squared_error(y_valid, y_pred)\n",
    "\n",
    "    return mse"
   ]
  },
  {
   "cell_type": "code",
   "execution_count": null,
   "id": "3ad10bd5",
   "metadata": {},
   "outputs": [],
   "source": [
    "# Create an Optuna study object\n",
    "study = optuna.create_study(direction='minimize')\n",
    "\n",
    "# Optimize the objective function using Optuna\n",
    "study.optimize(objective, n_trials=100)\n",
    "\n",
    "# Get the best hyperparameters found by Optuna\n",
    "best_params = study.best_params"
   ]
  },
  {
   "cell_type": "code",
   "execution_count": null,
   "id": "2f672309",
   "metadata": {},
   "outputs": [],
   "source": [
    "import optuna.visualization as vis\n",
    "# Visualize the optimization history\n",
    "vis.plot_optimization_history(study).show()\n",
    "\n",
    "# Visualize the importance of hyperparameters\n",
    "vis.plot_param_importances(study).show()\n",
    "\n",
    "# Visualize the slice of hyperparameters\n",
    "vis.plot_slice(study).show()"
   ]
  },
  {
   "cell_type": "code",
   "execution_count": null,
   "id": "d2eaa527",
   "metadata": {},
   "outputs": [],
   "source": [
    "# Train the final model using the best hyperparameters\n",
    "final_model = XGBRegressor(**best_params)\n",
    "final_model.fit(x, y)"
   ]
  },
  {
   "cell_type": "code",
   "execution_count": null,
   "id": "f53a6f52",
   "metadata": {},
   "outputs": [],
   "source": [
    "pred_train=final_model.predict(x_train)\n",
    "pred_test= final_model.predict(X_valid)\n",
    "print('The r2 score_train is: ', r2_score(y_train, pred_train))\n",
    "print('The r2 score_test is: ', r2_score(y_valid, pred_test))\n",
    "print('The mean absolute error ', mean_absolute_error(y_valid, pred_test))\n",
    "print('mean_squared_error: ',mean_squared_error(y_valid,pred_test))\n",
    "print('root_mean_squared_error: ',np.sqrt(mean_squared_error(y_valid,pred_test)))"
   ]
  },
  {
   "cell_type": "code",
   "execution_count": null,
   "id": "1d62692f",
   "metadata": {},
   "outputs": [],
   "source": [
    "# Calculate the cross-validation score with the final model\n",
    "cv_scores = cross_val_score(final_model, x, y, cv=10)\n",
    "\n",
    "# Optuna maximizes the objective function, so negate the mean squared error\n",
    "avg_mse = cv_scores.mean()\n",
    "\n",
    "print(\"Cross-validation score :\", avg_mse)"
   ]
  },
  {
   "cell_type": "code",
   "execution_count": null,
   "id": "854d7276",
   "metadata": {},
   "outputs": [],
   "source": [
    "sns.regplot(x=y_valid,y=pred_test)\n",
    "plt.title(\"Tunned-XGBR\")\n",
    "plt.xlabel('Y Test')\n",
    "plt.ylabel('Predicted Y')\n",
    "plt.show()"
   ]
  },
  {
   "cell_type": "code",
   "execution_count": null,
   "id": "ef4e2e3a",
   "metadata": {},
   "outputs": [],
   "source": [
    "#Saving the model using .pkl\n",
    "import joblib\n",
    "joblib.dump(xgb,'E:/DataTrained/Capstone_Project/IMDB_XGB.pkl')"
   ]
  },
  {
   "cell_type": "code",
   "execution_count": null,
   "id": "4864f505",
   "metadata": {},
   "outputs": [],
   "source": [
    "# load model and get predictions\n",
    "\n",
    "model_1=joblib.load('E:/DataTrained/Capstone_Project/IMDB_XGB.pkl')\n",
    "\n",
    "#Predict\n",
    "\n",
    "prediction_1 = model.predict(x_test)"
   ]
  },
  {
   "cell_type": "code",
   "execution_count": null,
   "id": "00b42631",
   "metadata": {},
   "outputs": [],
   "source": [
    "pd.DataFrame([model_1.predict(x_test)[:], y_test[:]], index = ['Predicted', 'Original'])"
   ]
  },
  {
   "cell_type": "code",
   "execution_count": null,
   "id": "6c81ab5c",
   "metadata": {},
   "outputs": [],
   "source": [
    "# Votes is the target feature now.\n",
    "x = dfgross_new.drop('Gross_Collection_$M',axis=1)\n",
    "y = dfgross_new['Gross_Collection_$M']"
   ]
  },
  {
   "cell_type": "code",
   "execution_count": null,
   "id": "d3e5f025",
   "metadata": {},
   "outputs": [],
   "source": [
    "sc= StandardScaler()\n",
    "x = pd.DataFrame(sc.fit_transform(x), columns = x.columns)\n",
    "x"
   ]
  },
  {
   "cell_type": "code",
   "execution_count": null,
   "id": "894ad050",
   "metadata": {},
   "outputs": [],
   "source": [
    "F_values, p_values  = f_regression(x, y )\n",
    "\n",
    "import itertools\n",
    "f_reg_results = [(i, v, z) for i, v, z in itertools.zip_longest(x.columns, F_values,  ['%.3f' % p for p in p_values])]\n",
    "f_reg_results=pd.DataFrame(f_reg_results, columns=['Variable','F_Value', 'P_Value'])\n",
    "\n",
    "f_reg_results=pd.DataFrame(f_reg_results, columns=['Variable','F_Value', 'P_Value'])\n",
    "f_reg_results = f_reg_results.sort_values(by=['P_Value']).head(25)"
   ]
  },
  {
   "cell_type": "code",
   "execution_count": null,
   "id": "f1d8e0bb",
   "metadata": {},
   "outputs": [],
   "source": [
    "f_reg_results"
   ]
  },
  {
   "cell_type": "code",
   "execution_count": null,
   "id": "ab64b98a",
   "metadata": {},
   "outputs": [],
   "source": [
    "l1_fr=f_reg_results['Variable'][:-6].values  # CI=0.90\n",
    "l1_fr"
   ]
  },
  {
   "cell_type": "code",
   "execution_count": null,
   "id": "51e6090b",
   "metadata": {},
   "outputs": [],
   "source": [
    "rfe = RFE(RandomForestRegressor(), n_features_to_select=7).fit(x,y)\n",
    "\n",
    "l2_rfe = x.columns[rfe.get_support()]"
   ]
  },
  {
   "cell_type": "code",
   "execution_count": null,
   "id": "e7f2eed7",
   "metadata": {},
   "outputs": [],
   "source": [
    "l2_rfe"
   ]
  },
  {
   "cell_type": "code",
   "execution_count": null,
   "id": "a65556f8",
   "metadata": {},
   "outputs": [],
   "source": [
    "SKB = SelectKBest(f_classif, k=7).fit(x, y )\n",
    "\n",
    "l3_skb = x.columns[SKB.get_support()]"
   ]
  },
  {
   "cell_type": "code",
   "execution_count": null,
   "id": "96de2fa5",
   "metadata": {},
   "outputs": [],
   "source": [
    "l3_skb"
   ]
  },
  {
   "cell_type": "code",
   "execution_count": null,
   "id": "934e6b78",
   "metadata": {},
   "outputs": [],
   "source": [
    "\n",
    "list(set(list(l1_fr)+list(l2_rfe)+list(l3_skb)))"
   ]
  },
  {
   "cell_type": "code",
   "execution_count": null,
   "id": "88869ce0",
   "metadata": {},
   "outputs": [],
   "source": [
    "x = x[final_list]\n",
    "y = y\n"
   ]
  },
  {
   "cell_type": "code",
   "execution_count": null,
   "id": "17f2a739",
   "metadata": {},
   "outputs": [],
   "source": [
    "vif = pd.DataFrame()\n",
    "vif[\"VIF_Factor\"] = [variance_inflation_factor(x.values, i) for i in range(x.shape[1])]\n",
    "vif[\"features\"] = x.columns"
   ]
  },
  {
   "cell_type": "code",
   "execution_count": null,
   "id": "ed903de2",
   "metadata": {},
   "outputs": [],
   "source": [
    "vif.sort_values(by='VIF_Factor', ascending=False, inplace=True)\n",
    "vif"
   ]
  },
  {
   "cell_type": "code",
   "execution_count": null,
   "id": "535f315b",
   "metadata": {},
   "outputs": [],
   "source": [
    "#Selecting the best random state to get maximum accuracy.\n",
    "max_acc=0\n",
    "max_RS=0\n",
    "for i in range(1,100):\n",
    "    x_train, x_test, y_train, y_test = train_test_split(x, y, test_size=0.20, random_state=i)\n",
    "\n",
    "    lr= LinearRegression()\n",
    "    lr.fit(x_train,y_train)\n",
    "    pred = lr.predict(x_test)\n",
    "    acc = r2_score(y_test, pred)\n",
    "    if acc > max_acc:\n",
    "        max_acc= acc\n",
    "        max_RS=i\n",
    "print(\"The max accuracy is\",max_acc, 'seen for random state:',max_RS)"
   ]
  },
  {
   "cell_type": "code",
   "execution_count": null,
   "id": "85111fdc",
   "metadata": {},
   "outputs": [],
   "source": [
    "x_train,x_test,y_train,y_test=train_test_split(x,y,test_size=0.2,random_state=max_RS)"
   ]
  },
  {
   "cell_type": "code",
   "execution_count": null,
   "id": "914d0cba",
   "metadata": {},
   "outputs": [],
   "source": [
    "lr=LinearRegression()\n",
    "lr.fit(x_train,y_train)\n",
    "pred_train=lr.predict(x_train)\n",
    "pred_test=lr.predict(x_test)\n",
    "score_train=r2_score(y_train,pred_train)\n",
    "score_test=r2_score(y_test,pred_test)\n",
    "mse = mean_squared_error(y_test, pred_test)"
   ]
  },
  {
   "cell_type": "code",
   "execution_count": null,
   "id": "18d31e7c",
   "metadata": {},
   "outputs": [],
   "source": [
    "print('R2_Score_train: ',score_train)\n",
    "print('R2_Score_test: ',score_test)\n",
    "print('RMSE = ', np.sqrt(mse).round(4))\n",
    "print('The mean absolute error = ', mean_absolute_error(y_test, pred_test))"
   ]
  },
  {
   "cell_type": "code",
   "execution_count": null,
   "id": "d8e4fc07",
   "metadata": {},
   "outputs": [],
   "source": [
    "sns.regplot(x=y_test,y=pred_test)\n",
    "plt.title(\"Model-LR\")\n",
    "plt.xlabel('Y Test')\n",
    "plt.ylabel('Predicted Y')\n",
    "plt.show()"
   ]
  },
  {
   "cell_type": "code",
   "execution_count": null,
   "id": "2c398bf4",
   "metadata": {},
   "outputs": [],
   "source": [
    "for i in range(2,11):\n",
    "    cv_score=cross_val_score(lr,x,y,scoring='r2',cv=i)\n",
    "    cv_mean= cv_score.mean()\n",
    "    cv_std= cv_score.std()\n",
    "    print(f'At Cross fold {i} the cv score mean is {cv_mean*100} and the cv score std is {cv_std},testing accuracy score= {score_test*100}')\n",
    "    print('\\n')"
   ]
  },
  {
   "cell_type": "code",
   "execution_count": null,
   "id": "d4b750b4",
   "metadata": {},
   "outputs": [],
   "source": [
    "# Define the degree of polynomial features\n",
    "degree = 2\n",
    "\n",
    "# Create an instance of PolynomialFeatures\n",
    "poly_features = PolynomialFeatures(degree=degree)\n",
    "\n",
    "# Fit and transform the training features to polynomial features\n",
    "X_train_poly = poly_features.fit_transform(x_train)\n",
    "\n",
    "# Transform the testing features to polynomial features\n",
    "X_test_poly = poly_features.transform(x_test)"
   ]
  },
  {
   "cell_type": "code",
   "execution_count": null,
   "id": "f18781d8",
   "metadata": {},
   "outputs": [],
   "source": [
    "# Create an instance of Ridge regression\n",
    "ridge_model = Ridge()\n",
    "\n",
    "ridge_model.fit(X_train_poly, y_train)\n",
    "\n",
    "pred_train_ridge=ridge_model.predict(X_train_poly)\n",
    "pred_test_ridge = ridge_model.predict(X_test_poly)\n",
    "\n",
    "score_train=r2_score(y_train,pred_train_ridge)\n",
    "score_test=r2_score(y_test,pred_test_ridge)\n",
    "mse = mean_squared_error(y_test, pred_test_ridge)\n",
    "\n",
    "# Print the mean squared error\n",
    "print('R2_Score_train: ',score_train)\n",
    "print('R2_Score_test: ',score_test)\n",
    "print('RMSE = ', np.sqrt(mse).round(4))\n",
    "print('The mean absolute error = ', mean_absolute_error(y_test, pred_test_ridge))"
   ]
  },
  {
   "cell_type": "code",
   "execution_count": null,
   "id": "8ab6598f",
   "metadata": {},
   "outputs": [],
   "source": [
    "sns.regplot(x=y_test,y=pred_test_ridge)\n",
    "plt.title(\"Model-Ridge\")\n",
    "plt.xlabel('Y Test')\n",
    "plt.ylabel('Predicted Y')\n",
    "plt.show()\n"
   ]
  },
  {
   "cell_type": "code",
   "execution_count": null,
   "id": "06a6c28e",
   "metadata": {},
   "outputs": [],
   "source": [
    "# Create an instance of Lasso regression\n",
    "lasso_model = Lasso()\n",
    "\n",
    "\n",
    "lasso_model.fit(X_train_poly, y_train)\n",
    "\n",
    "pred_train_lasso=lasso_model.predict(X_train_poly)\n",
    "pred_test_lasso = lasso_model.predict(X_test_poly)\n",
    "\n",
    "score_train=r2_score(y_train,pred_train_ridge)\n",
    "score_test=r2_score(y_test,pred_test_ridge)\n",
    "mse = mean_squared_error(y_test, pred_test_lasso)\n",
    "\n",
    "\n",
    "# Print the mean squared error\n",
    "print('R2_Score_train: ',score_train)\n",
    "print('R2_Score_test: ',score_test)\n",
    "print('RMSE = ', np.sqrt(mse).round(4))\n",
    "print('The mean absolute error = ', mean_absolute_error(y_test, pred_test_lasso))"
   ]
  },
  {
   "cell_type": "code",
   "execution_count": null,
   "id": "828ecb23",
   "metadata": {},
   "outputs": [],
   "source": [
    "sns.regplot(x=y_test,y=pred_test_lasso)\n",
    "plt.title(\"Model-Lasso\")\n",
    "plt.xlabel('Y Test')\n",
    "plt.ylabel('Predicted Y')\n",
    "plt.show()"
   ]
  },
  {
   "cell_type": "code",
   "execution_count": null,
   "id": "1e0fb602",
   "metadata": {},
   "outputs": [],
   "source": [
    "#Selecting the best random state to get maximum accuracy.\n",
    "max_acc=0\n",
    "max_RS=0\n",
    "for i in range(1,100):\n",
    "    x_train, x_test, y_train, y_test = train_test_split(x, y, test_size=0.20, random_state=i)\n",
    "   \n",
    "    knn = KNeighborsRegressor()\n",
    "    knn.fit(x_train,y_train)\n",
    "    pred = knn.predict(x_test)\n",
    "    acc = r2_score(y_test, pred)\n",
    "    if acc > max_acc:\n",
    "        max_acc= acc\n",
    "        max_RS=i\n",
    "print(\"The max accuracy is\",max_acc, 'seen for random state:',max_RS)"
   ]
  },
  {
   "cell_type": "code",
   "execution_count": null,
   "id": "0437b867",
   "metadata": {},
   "outputs": [],
   "source": [
    "x_train,x_test,y_train,y_test=train_test_split(x,y,test_size=0.20,random_state=max_RS)\n",
    "\n",
    "pred_train=knn.predict(x_train)\n",
    "pred_test = knn.predict(x_test)\n",
    "print('The r2 score_train is:', r2_score(y_train, pred_train))\n",
    "print('The r2 score_test is:', r2_score(y_test, pred_test))\n",
    "print('The mean absolute error', mean_absolute_error(y_test, pred_test))\n",
    "print('The mean squared error', mean_squared_error(y_test, pred_test))\n",
    "cv = cross_val_score(knn, x,y,cv=10)\n",
    "print('The cross validation score', cv.mean())"
   ]
  },
  {
   "cell_type": "code",
   "execution_count": null,
   "id": "ea7f6f6a",
   "metadata": {},
   "outputs": [],
   "source": [
    "sns.regplot(x=y_test,y=pred_test)\n",
    "plt.title(\"Model-KNN\")\n",
    "plt.xlabel('Y Test')\n",
    "plt.ylabel('Predicted Y')\n",
    "plt.show()"
   ]
  },
  {
   "cell_type": "code",
   "execution_count": null,
   "id": "c4b8c019",
   "metadata": {},
   "outputs": [],
   "source": [
    "#Selecting the best random state to get maximum accuracy.\n",
    "\n",
    "max_acc=0\n",
    "max_RS=0\n",
    "for i in range(1,100):\n",
    "    x_train, x_test, y_train, y_test = train_test_split(x, y, test_size=0.20, random_state=i)\n",
    "\n",
    "    svr = SVR()\n",
    "    svr.fit(x_train,y_train)\n",
    "    pred = svr.predict(x_test)\n",
    "    acc = r2_score(y_test, pred)\n",
    "    if acc > max_acc:\n",
    "        max_acc= acc\n",
    "        max_RS=i\n",
    "print(\"The max accuracy is\",max_acc, 'seen for random state:',max_RS)"
   ]
  },
  {
   "cell_type": "code",
   "execution_count": null,
   "id": "dbf25cf2",
   "metadata": {},
   "outputs": [],
   "source": [
    "x_train,x_test,y_train,y_test=train_test_split(x,y,test_size=0.20,random_state=max_RS)\n",
    "\n",
    "pred_train=svr.predict(x_train)\n",
    "pred_test = svr.predict(x_test)\n",
    "print('The r2 score_train is:', r2_score(y_train, pred_train))\n",
    "print('The r2 score_test is:', r2_score(y_test, pred_test))\n",
    "print('The mean absolute error', mean_absolute_error(y_test, pred_test))\n",
    "print('The mean squared error', mean_squared_error(y_test, pred_test))\n",
    "cv = cross_val_score(svr, x,y,cv=10)\n",
    "print('The cross validation score', cv.mean())"
   ]
  },
  {
   "cell_type": "code",
   "execution_count": null,
   "id": "6f85436d",
   "metadata": {},
   "outputs": [],
   "source": [
    "sns.regplot(x=y_test,y=pred_test)\n",
    "plt.title(\"Model-SVR\")\n",
    "plt.xlabel('Y Test')\n",
    "plt.ylabel('Predicted Y')\n",
    "plt.show()"
   ]
  },
  {
   "cell_type": "code",
   "execution_count": null,
   "id": "e9e2e2e4",
   "metadata": {},
   "outputs": [],
   "source": [
    "#Selecting the best random state to get maximum accuracy.\n",
    "\n",
    "max_acc=0\n",
    "max_RS=0\n",
    "for i in range(1,100):\n",
    "    x_train, x_test, y_train, y_test = train_test_split(x, y, test_size=0.20, random_state=i)\n",
    "  \n",
    "    dtr = DecisionTreeRegressor()\n",
    "    dtr.fit(x_train,y_train)\n",
    "    pred = dtr.predict(x_test)\n",
    "    acc = r2_score(y_test, pred)\n",
    "    if acc > max_acc:\n",
    "        max_acc= acc\n",
    "        max_RS=i\n",
    "print(\"The max accuracy is\",max_acc, 'seen for random state:',max_RS)"
   ]
  },
  {
   "cell_type": "code",
   "execution_count": null,
   "id": "f91eeee4",
   "metadata": {},
   "outputs": [],
   "source": [
    "x_train,x_test,y_train,y_test=train_test_split(x,y,test_size=0.20,random_state=max_RS)"
   ]
  },
  {
   "cell_type": "code",
   "execution_count": null,
   "id": "3e3d7c7c",
   "metadata": {},
   "outputs": [],
   "source": [
    "pred_train=dtr.predict(x_train)\n",
    "pred_test= dtr.predict(x_test)\n",
    "print('The r2 score_train is:', r2_score(y_train, pred_train))\n",
    "print('The r2 score_test is:', r2_score(y_test, pred_test))\n",
    "print('The mean absolute error', mean_absolute_error(y_test, pred_test))\n",
    "print('The mean squared error', mean_squared_error(y_test, pred_test))\n",
    "cv = cross_val_score(dtr, x,y,cv=10)\n",
    "print('The cross validation score', cv.mean())"
   ]
  },
  {
   "cell_type": "code",
   "execution_count": null,
   "id": "84588fe4",
   "metadata": {},
   "outputs": [],
   "source": [
    "sns.regplot(x=y_test,y=pred_test)\n",
    "plt.title(\"Model-DT\")\n",
    "plt.xlabel('Y Test')\n",
    "plt.ylabel('Predicted Y')\n",
    "plt.show()"
   ]
  },
  {
   "cell_type": "code",
   "execution_count": null,
   "id": "a08aa75a",
   "metadata": {},
   "outputs": [],
   "source": [
    "#Selecting the best random state to get maximum accuracy.\n",
    "max_acc=0\n",
    "max_RS=0\n",
    "for i in range(1,100):\n",
    "    x_train, x_test, y_train, y_test = train_test_split(x, y, test_size=0.20, random_state=i)\n",
    "   \n",
    "    rfr = RandomForestRegressor()\n",
    "    rfr.fit(x_train,y_train)\n",
    "    pred = rfr.predict(x_test)\n",
    "    acc = r2_score(y_test, pred)\n",
    "    if acc > max_acc:\n",
    "        max_acc= acc\n",
    "        max_RS=i\n",
    "print(\"The max accuracy is\",max_acc, 'seen for random state:',max_RS)"
   ]
  },
  {
   "cell_type": "code",
   "execution_count": null,
   "id": "4882cce3",
   "metadata": {},
   "outputs": [],
   "source": [
    "x_train,x_test,y_train,y_test=train_test_split(x,y,test_size=0.20,random_state=max_RS)"
   ]
  },
  {
   "cell_type": "code",
   "execution_count": null,
   "id": "2027d341",
   "metadata": {},
   "outputs": [],
   "source": [
    "pred_train=rfr.predict(x_train)\n",
    "pred_test= rfr.predict(x_test)\n",
    "print('The r2 score_train is:', r2_score(y_train, pred_train))\n",
    "print('The r2 score_test is:', r2_score(y_test, pred_test))\n",
    "print('The mean absolute error', mean_absolute_error(y_test, pred_test))\n",
    "print('The mean squared error', mean_squared_error(y_test, pred_test))\n",
    "cv = cross_val_score(rfr, x,y,cv=10)\n",
    "print('The cross validation score', cv.mean())"
   ]
  },
  {
   "cell_type": "code",
   "execution_count": null,
   "id": "619e2767",
   "metadata": {},
   "outputs": [],
   "source": [
    "sns.regplot(x=y_test,y=pred_test)\n",
    "plt.title(\"Model-RFR\")\n",
    "plt.xlabel('Y Test')\n",
    "plt.ylabel('Predicted Y')\n",
    "plt.show()"
   ]
  },
  {
   "cell_type": "code",
   "execution_count": null,
   "id": "88011e5f",
   "metadata": {},
   "outputs": [],
   "source": [
    "#Selecting the best random state to get maximum accuracy.\n",
    "\n",
    "max_acc=0\n",
    "max_RS=0\n",
    "for i in range(1,100):\n",
    "    x_train, x_test, y_train, y_test = train_test_split(x, y, test_size=0.20, random_state=i)\n",
    "   \n",
    "    gbr=GradientBoostingRegressor()\n",
    "    gbr.fit(x_train,y_train)\n",
    "    pred=gbr.predict(x_test)\n",
    "    acc = r2_score(y_test, pred)\n",
    "    if acc > max_acc:\n",
    "        max_acc= acc\n",
    "        max_RS=i\n",
    "print(\"The max accuracy is\",max_acc, 'seen for random state:',max_RS)"
   ]
  },
  {
   "cell_type": "code",
   "execution_count": null,
   "id": "d9514103",
   "metadata": {},
   "outputs": [],
   "source": [
    "x_train,x_test,y_train,y_test=train_test_split(x,y,test_size=0.20,random_state=max_RS)\n",
    "\n",
    "pred_train=gbr.predict(x_train)\n",
    "pred_test = gbr.predict(x_test)\n",
    "print('The r2 score_train is:', r2_score(y_train, pred_train))\n",
    "print('The r2 score_test is:', r2_score(y_test, pred_test))\n",
    "print('The mean absolute error', mean_absolute_error(y_test, pred_test))\n",
    "print('The mean squared error', mean_squared_error(y_test, pred_test))\n",
    "cv = cross_val_score(gbr, x,y,cv=10)\n",
    "print('The cross validation score', cv.mean())"
   ]
  },
  {
   "cell_type": "code",
   "execution_count": null,
   "id": "2235affd",
   "metadata": {},
   "outputs": [],
   "source": [
    "sns.regplot(x=y_test,y=pred_test)\n",
    "plt.title(\"Model-GBR\")\n",
    "plt.xlabel('Y Test')\n",
    "plt.ylabel('Predicted Y')\n",
    "plt.show()"
   ]
  },
  {
   "cell_type": "code",
   "execution_count": null,
   "id": "3ca57818",
   "metadata": {},
   "outputs": [],
   "source": [
    "#Selecting the best random state to get maximum accuracy.\n",
    "max_acc=0\n",
    "max_RS=0\n",
    "for i in range(1,100):\n",
    "    x_train, x_test, y_train, y_test = train_test_split(x, y, test_size=0.20, random_state=i)\n",
    "\n",
    "    \n",
    "    adr=AdaBoostRegressor()\n",
    "    adr.fit(x_train,y_train)\n",
    "    adr_pred=adr.predict(x_test)\n",
    "    acc = r2_score(y_test, adr_pred)\n",
    "    if acc > max_acc:\n",
    "        max_acc= acc\n",
    "        max_RS=i\n",
    "print(\"The max accuracy is\",max_acc, 'seen for random state:',max_RS)"
   ]
  },
  {
   "cell_type": "code",
   "execution_count": null,
   "id": "7f4b5432",
   "metadata": {},
   "outputs": [],
   "source": [
    "x_train,x_test,y_train,y_test=train_test_split(x,y,test_size=0.20,random_state=max_RS)\n",
    "\n",
    "pred_train=adr.predict(x_train)\n",
    "pred_test = adr.predict(x_test)\n",
    "print('The r2 score_train is:', r2_score(y_train, pred_train))\n",
    "print('The r2 score_test is:', r2_score(y_test, pred_test))\n",
    "print('The mean absolute error', mean_absolute_error(y_test, pred_test))\n",
    "print('The mean squared error', mean_squared_error(y_test, pred_test))\n",
    "cv = cross_val_score(adr, x,y,cv=10)\n",
    "print('The cross validation score', cv.mean())"
   ]
  },
  {
   "cell_type": "code",
   "execution_count": null,
   "id": "39024dbd",
   "metadata": {},
   "outputs": [],
   "source": [
    "sns.regplot(x=y_test,y=pred_test)\n",
    "plt.title(\"Model-ADAB Regressor\")\n",
    "plt.xlabel('Y Test')\n",
    "plt.ylabel('Predicted Y')\n",
    "plt.show()"
   ]
  },
  {
   "cell_type": "code",
   "execution_count": null,
   "id": "b0c0ee04",
   "metadata": {},
   "outputs": [],
   "source": [
    "#Selecting the best random state to get maximum accuracy.\n",
    "max_acc=0\n",
    "max_RS=0\n",
    "for i in range(1,100):\n",
    "    x_train, x_test, y_train, y_test = train_test_split(x, y, test_size=0.20, random_state=i)\n",
    "\n",
    "    xgb=XGBRegressor()\n",
    "    xgb.fit(x_train,y_train)\n",
    "    xgb_pred=xgb.predict(x_test)\n",
    "    acc = r2_score(y_test, xgb_pred)\n",
    "    if acc > max_acc:\n",
    "        max_acc= acc\n",
    "        max_RS=i\n",
    "print(\"The max accuracy is\",max_acc, 'seen for random state:',max_RS)"
   ]
  },
  {
   "cell_type": "code",
   "execution_count": null,
   "id": "67e454d5",
   "metadata": {},
   "outputs": [],
   "source": [
    "x_train,x_test,y_train,y_test=train_test_split(x,y,test_size=0.20,random_state=max_RS)\n",
    "\n",
    "pred_train=xgb.predict(x_train)\n",
    "pred_test= xgb.predict(x_test)\n",
    "print('The r2 score_train is:', r2_score(y_train, pred_train))\n",
    "print('The r2 score_test is:', r2_score(y_test, pred_test))\n",
    "print('The mean absolute error', mean_absolute_error(y_test, pred_test))\n",
    "print('The mean squared error', mean_squared_error(y_test, pred_test))\n",
    "cv = cross_val_score(xgb, x,y,cv=10)\n",
    "print('The cross validation score', cv.mean(),cv.std())"
   ]
  },
  {
   "cell_type": "code",
   "execution_count": null,
   "id": "ebc1cfe0",
   "metadata": {},
   "outputs": [],
   "source": [
    "sns.regplot(x=y_test,y=pred_test)\n",
    "plt.title(\"Model-XGBR\")\n",
    "plt.xlabel('Y Test')\n",
    "plt.ylabel('Predicted Y')\n",
    "plt.show()"
   ]
  },
  {
   "cell_type": "code",
   "execution_count": null,
   "id": "3942f9e3",
   "metadata": {},
   "outputs": [],
   "source": [
    "np.random.seed(10)\n",
    "\n",
    "def rmse_cv(model, x, y):\n",
    "    rmse = -cross_val_score(model, x, y, scoring='neg_mean_squared_error', cv=10)\n",
    "    return (rmse)\n",
    "\n",
    "models = [LinearRegression(), Ridge(), Lasso(), SVR(), KNeighborsRegressor(),\n",
    "          DecisionTreeRegressor(), RandomForestRegressor(), GradientBoostingRegressor(),\n",
    "          AdaBoostRegressor(), XGBRegressor()]\n",
    "\n",
    "names = ['lr', 'ridge', 'lasso', 'svr', 'knn', 'dtr', 'rfr', 'gbr', 'adr', 'xgb']\n",
    "\n",
    "for model, name in zip(models, names):\n",
    "    score = rmse_cv(model, x, y)\n",
    "    print(\"{}: {:.6f}, {:.6f}\".format(name, score.mean(), score.std()))"
   ]
  },
  {
   "cell_type": "code",
   "execution_count": null,
   "id": "0201cd21",
   "metadata": {},
   "outputs": [],
   "source": [
    "# Split the data into training and validation sets\n",
    "X_train, X_valid, y_train, y_valid = train_test_split(x, y, test_size=0.2, random_state=22)\n",
    "\n",
    "# Define the objective function to optimize using Optuna\n",
    "def objective(trial):\n",
    "    # Define the hyperparameters to tune\n",
    "    params = {\n",
    "        'n_estimators': trial.suggest_int('n_estimators', 100, 100),\n",
    "        'learning_rate': trial.suggest_float('learning_rate', 0.01, 0.2),\n",
    "        'max_depth': trial.suggest_int('max_depth', 3, 10),\n",
    "        'subsample': trial.suggest_float('subsample', 0.6, 1.0),\n",
    "        'colsample_bytree': trial.suggest_float('colsample_bytree', 0.5, 1.0),\n",
    "        'gamma': trial.suggest_float('gamma', 0.0, 1.0),\n",
    "        'lambda': trial.suggest_float('lambda', 0.0, 1.0),\n",
    "    }\n",
    "\n",
    "    # Create the XGB regressor with the current hyperparameters\n",
    "    model = XGBRegressor(**params)\n",
    "\n",
    "    # Train the model\n",
    "    model.fit(X_train, y_train, eval_set=[(X_valid, y_valid)], early_stopping_rounds=10, verbose=False)\n",
    "\n",
    "    # Predict on the validation set\n",
    "    y_pred = model.predict(X_valid)\n",
    "\n",
    "    # Calculate the mean squared error as the objective to minimize\n",
    "    mse = mean_squared_error(y_valid, y_pred)\n",
    "\n",
    "    return mse"
   ]
  },
  {
   "cell_type": "code",
   "execution_count": null,
   "id": "b01020ca",
   "metadata": {},
   "outputs": [],
   "source": [
    "# Create an Optuna study object\n",
    "study = optuna.create_study(direction='minimize')\n",
    "\n",
    "# Optimize the objective function using Optuna\n",
    "study.optimize(objective, n_trials=100)\n",
    "\n",
    "# Get the best hyperparameters found by Optuna\n",
    "best_params = study.best_params"
   ]
  },
  {
   "cell_type": "code",
   "execution_count": null,
   "id": "421caf6a",
   "metadata": {},
   "outputs": [],
   "source": [
    "# Train the final model using the best hyperparameters\n",
    "final_model = XGBRegressor(**best_params)\n",
    "final_model.fit(x, y)\n",
    "\n",
    "pred_train=final_model.predict(x_train)\n",
    "pred_test= final_model.predict(X_valid)\n",
    "print('The r2 score_train is: ', r2_score(y_train, pred_train))\n",
    "print('The r2 score_test is: ', r2_score(y_valid, pred_test))\n",
    "print('The mean absolute error ', mean_absolute_error(y_valid, pred_test))\n",
    "print('mean_squared_error: ',mean_squared_error(y_valid,pred_test))\n",
    "print('root_mean_squared_error: ',np.sqrt(mean_squared_error(y_valid,pred_test)))"
   ]
  },
  {
   "cell_type": "code",
   "execution_count": null,
   "id": "77d7299d",
   "metadata": {},
   "outputs": [],
   "source": [
    "# Calculate the cross-validation score with the final model\n",
    "cv_scores = cross_val_score(final_model, x, y, cv=10)\n",
    "\n",
    "# Optuna maximizes the objective function, so negate the mean squared error\n",
    "avg_mse = cv_scores.mean()\n",
    "\n",
    "print(\"Cross-validation score :\", avg_mse)"
   ]
  },
  {
   "cell_type": "code",
   "execution_count": null,
   "id": "f3857a76",
   "metadata": {},
   "outputs": [],
   "source": [
    "sns.regplot(x=y_valid,y=pred_test)\n",
    "plt.title(\"Tunned-XGBR\")\n",
    "plt.xlabel('Y Test')\n",
    "plt.ylabel('Predicted Y')\n",
    "plt.show()"
   ]
  },
  {
   "cell_type": "code",
   "execution_count": null,
   "id": "e0453364",
   "metadata": {},
   "outputs": [],
   "source": [
    "# Define the parameter grid\n",
    "params = {\n",
    "    'n_estimators': [100, 200,500,700],\n",
    "    'learning_rate': [0.1, 0.01, 0.001],\n",
    "    'max_depth': [3,5,7,9],\n",
    "    'subsample': [0.8, 1],\n",
    "    'colsample_bytree': [0.8,1]\n",
    "}\n",
    "\n",
    "xgb_tuned= GridSearchCV(XGBRegressor(),params,scoring='r2',cv =10,n_jobs=-1,verbose=True)\n",
    "xgb_tuned.fit(x_train,y_train)\n",
    "y_pred=xgb_tuned.predict(x_test)\n",
    "print('The r2 score is:', r2_score(y_test, y_pred))\n",
    "print(\"\\n The best estimator across ALL searched params:\\n\", xgb_tuned.best_estimator_)\n",
    "print(\"\\n The best score across ALL searched params:\\n\", xgb_tuned.best_score_)\n",
    "print(\"\\n The best parameters across ALL searched params:\\n\",xgb_tuned.best_params_)"
   ]
  },
  {
   "cell_type": "code",
   "execution_count": null,
   "id": "12c77001",
   "metadata": {},
   "outputs": [],
   "source": [
    "# Reinstating with tuned parameters\n",
    "x_train,x_test,y_train,y_test=train_test_split(x,y,test_size=0.2,random_state=22)\n",
    "\n",
    "xgb_model=XGBRegressor(n_estimators=100,max_depth=3,colsample_bytree=1,learning_rate=0.1,subsample=0.8).fit(x_train,y_train)\n",
    "\n",
    "pred_train=xgb_model.predict(x_train)\n",
    "pred_test= xgb_model.predict(x_test)\n",
    "print('The r2 score_train is: ', r2_score(y_train, pred_train))\n",
    "print('The r2 score_test is: ', r2_score(y_test, pred_test))\n",
    "print('The mean absolute error ', mean_absolute_error(y_test, pred_test))\n",
    "print('root_mean_squared_error: ',np.sqrt(mean_squared_error(y_test,pred_test)))"
   ]
  },
  {
   "cell_type": "code",
   "execution_count": null,
   "id": "ed492a0f",
   "metadata": {},
   "outputs": [],
   "source": [
    "cv = cross_val_score(xgb_model, x,y,cv=10)\n",
    "print('The cross validation score', cv.mean())"
   ]
  },
  {
   "cell_type": "code",
   "execution_count": null,
   "id": "69842ebf",
   "metadata": {},
   "outputs": [],
   "source": [
    "sns.regplot(x=y_test,y=pred_test)\n",
    "plt.title(\"Tunned-XGBR\")\n",
    "plt.xlabel('Y Test')\n",
    "plt.ylabel('Predicted Y')\n",
    "plt.show()"
   ]
  }
 ],
 "metadata": {
  "kernelspec": {
   "display_name": "Python 3 (ipykernel)",
   "language": "python",
   "name": "python3"
  },
  "language_info": {
   "codemirror_mode": {
    "name": "ipython",
    "version": 3
   },
   "file_extension": ".py",
   "mimetype": "text/x-python",
   "name": "python",
   "nbconvert_exporter": "python",
   "pygments_lexer": "ipython3",
   "version": "3.9.13"
  }
 },
 "nbformat": 4,
 "nbformat_minor": 5
}
